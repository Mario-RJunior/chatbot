{
  "nbformat": 4,
  "nbformat_minor": 0,
  "metadata": {
    "colab": {
      "name": "train_data.ipynb",
      "provenance": [],
      "include_colab_link": true
    },
    "kernelspec": {
      "name": "python3",
      "display_name": "Python 3"
    }
  },
  "cells": [
    {
      "cell_type": "markdown",
      "metadata": {
        "id": "view-in-github",
        "colab_type": "text"
      },
      "source": [
        "<a href=\"https://colab.research.google.com/github/Mario-RJunior/chatbot/blob/main/train_data.ipynb\" target=\"_parent\"><img src=\"https://colab.research.google.com/assets/colab-badge.svg\" alt=\"Open In Colab\"/></a>"
      ]
    },
    {
      "cell_type": "markdown",
      "metadata": {
        "id": "spd_TIoYaxzX"
      },
      "source": [
        "# Train Data "
      ]
    },
    {
      "cell_type": "code",
      "metadata": {
        "colab": {
          "base_uri": "https://localhost:8080/"
        },
        "id": "DBgKs6PAysCv",
        "outputId": "83bf3c7b-05f1-4794-818c-b96450a9f771"
      },
      "source": [
        "!git clone https://github.com/Mario-RJunior/chatbot-pytorch"
      ],
      "execution_count": 10,
      "outputs": [
        {
          "output_type": "stream",
          "text": [
            "fatal: destination path 'chatbot-pytorch' already exists and is not an empty directory.\n"
          ],
          "name": "stdout"
        }
      ]
    },
    {
      "cell_type": "code",
      "metadata": {
        "colab": {
          "base_uri": "https://localhost:8080/"
        },
        "id": "6KtRJWrRXjt4",
        "outputId": "4c090b4c-495b-4f73-f79d-aaec7f6c9023"
      },
      "source": [
        "import json\r\n",
        "from nltk_utils import tokenize, stem, bag_of_word\r\n",
        "import string\r\n",
        "import numpy as np\r\n",
        "import torch\r\n",
        "import torch.nn as nn\r\n",
        "from torch.utils.data import Dataset, DataLoader\r\n",
        "from model import NeuralNet\r\n",
        "import nltk\r\n",
        "nltk.download('punkt')"
      ],
      "execution_count": 11,
      "outputs": [
        {
          "output_type": "stream",
          "text": [
            "[nltk_data] Downloading package punkt to /root/nltk_data...\n",
            "[nltk_data]   Package punkt is already up-to-date!\n"
          ],
          "name": "stdout"
        },
        {
          "output_type": "execute_result",
          "data": {
            "text/plain": [
              "True"
            ]
          },
          "metadata": {
            "tags": []
          },
          "execution_count": 11
        }
      ]
    },
    {
      "cell_type": "code",
      "metadata": {
        "id": "WHt3mv3VXaEP"
      },
      "source": [
        "with open('/content/chatbot-pytorch/intents.json', 'r', encoding='utf-8') as file:\r\n",
        "    intents = json.load(file)\r\n",
        "\r\n",
        "all_words = []\r\n",
        "tags = []\r\n",
        "xy = []\r\n",
        "\r\n",
        "for intent in intents['intents']:\r\n",
        "    tag = intent['tag']\r\n",
        "    tags.append(tag)\r\n",
        "\r\n",
        "    for pattern in intent['patterns']:\r\n",
        "        w = tokenize(pattern)\r\n",
        "        all_words.extend(w)\r\n",
        "        xy.append((w, tag))\r\n",
        "\r\n",
        "punctuation = string.punctuation\r\n",
        "\r\n",
        "all_words = [stem(w) for w in all_words if w not in punctuation]\r\n",
        "all_words = sorted(set(all_words))\r\n",
        "tags = sorted(set(tags))\r\n",
        "\r\n",
        "X_train = []\r\n",
        "y_train = []\r\n",
        "\r\n",
        "for (pattern_sentence, tag) in xy:\r\n",
        "    bag = bag_of_word(pattern_sentence, all_words)\r\n",
        "    X_train.append(bag)\r\n",
        "\r\n",
        "    label = tags.index(tag)\r\n",
        "    y_train.append(label)\r\n",
        "\r\n",
        "X_train = np.array(X_train)\r\n",
        "y_train = np.array(y_train)\r\n",
        "\r\n",
        "# Create a class\r\n",
        "class ChatDataset(Dataset):\r\n",
        "\r\n",
        "    def __init__(self):\r\n",
        "        self.n_samples = len(X_train)\r\n",
        "        self.x_data = X_train\r\n",
        "        self.y_data = y_train\r\n",
        "    \r\n",
        "    def __getitem__(self, index):\r\n",
        "        return self.x_data[index], self.y_data[index]\r\n",
        "\r\n",
        "    def __len__(self):\r\n",
        "        return self.n_samples\r\n",
        "\r\n",
        "# Hyperparameters\r\n",
        "batch_size = 8\r\n",
        "hidden_size = 8\r\n",
        "output_size = len(tags)\r\n",
        "input_size = len(X_train[0])\r\n",
        "learning_rate = 0.001\r\n",
        "num_epochs = 1000\r\n",
        "\r\n",
        "dataset = ChatDataset()\r\n",
        "train_loader = DataLoader(dataset=dataset, \r\n",
        "                          batch_size=batch_size,\r\n",
        "                          shuffle=True,\r\n",
        "                          num_workers=2)\r\n",
        "\r\n",
        "# Using GPU (if its available)\r\n",
        "device = torch.device('cuda' if torch.cuda.is_available() else 'cpu')\r\n",
        "model = NeuralNet(input_size, hidden_size, output_size).to(device)"
      ],
      "execution_count": 12,
      "outputs": []
    },
    {
      "cell_type": "code",
      "metadata": {
        "id": "auWD8MT1Yw3s"
      },
      "source": [
        "# Loss and Optimizer\r\n",
        "criterion = nn.CrossEntropyLoss()\r\n",
        "optimizer = torch.optim.Adam(model.parameters(), \r\n",
        "                             lr=learning_rate)"
      ],
      "execution_count": 13,
      "outputs": []
    },
    {
      "cell_type": "code",
      "metadata": {
        "colab": {
          "base_uri": "https://localhost:8080/"
        },
        "id": "N0uMp547ZM6F",
        "outputId": "1f0b3be6-5830-4106-daae-9b1e5719103c"
      },
      "source": [
        "for epoch in range(num_epochs):\r\n",
        "    for (words, labels) in train_loader:\r\n",
        "        words = words.to(device)\r\n",
        "        labels = labels.to(device)\r\n",
        "\r\n",
        "        # Forward\r\n",
        "        outputs = model(words)\r\n",
        "        loss = criterion(outputs, labels)\r\n",
        "\r\n",
        "        # Backward and optimizer step\r\n",
        "        optimizer.zero_grad()\r\n",
        "        loss.backward()\r\n",
        "        optimizer.step()\r\n",
        "    \r\n",
        "    if (epoch + 1) % 100 == 0:\r\n",
        "        print(f'epoch {epoch + 1}/{num_epochs}, loss = {loss.item():.4f}')\r\n",
        "\r\n",
        "print(f'final loss, loss = {loss.item():.4f}')"
      ],
      "execution_count": 14,
      "outputs": [
        {
          "output_type": "stream",
          "text": [
            "epoch 100/1000, loss = 0.4054\n",
            "epoch 200/1000, loss = 0.0271\n",
            "epoch 300/1000, loss = 0.0129\n",
            "epoch 400/1000, loss = 0.0096\n",
            "epoch 500/1000, loss = 0.0022\n",
            "epoch 600/1000, loss = 0.0014\n",
            "epoch 700/1000, loss = 0.0006\n",
            "epoch 800/1000, loss = 0.0015\n",
            "epoch 900/1000, loss = 0.0010\n",
            "epoch 1000/1000, loss = 0.0003\n",
            "final loss, loss = 0.0003\n"
          ],
          "name": "stdout"
        }
      ]
    },
    {
      "cell_type": "code",
      "metadata": {
        "id": "uIYEUIqaEcr8"
      },
      "source": [
        "data = {\r\n",
        "    'model_state': model.state_dict(),\r\n",
        "    'input_size': input_size,\r\n",
        "    'output_size': output_size,\r\n",
        "    'hidden_size': hidden_size,\r\n",
        "    'all_words': all_words,\r\n",
        "    'tags': tags\r\n",
        "}"
      ],
      "execution_count": 16,
      "outputs": []
    },
    {
      "cell_type": "code",
      "metadata": {
        "id": "d4t-7dOTE0tZ"
      },
      "source": [
        "FILE = 'data.pth'\r\n",
        "torch.save(data, FILE)"
      ],
      "execution_count": 17,
      "outputs": []
    },
    {
      "cell_type": "code",
      "metadata": {
        "id": "kso5n_OXE-F8",
        "outputId": "ff2aedf0-2e6c-4890-9a75-c2f3bff32270",
        "colab": {
          "base_uri": "https://localhost:8080/"
        }
      },
      "source": [
        "print(f'Training complete. File saved to {FILE}')"
      ],
      "execution_count": 18,
      "outputs": [
        {
          "output_type": "stream",
          "text": [
            "Training complete. File saved to data.pth\n"
          ],
          "name": "stdout"
        }
      ]
    }
  ]
}