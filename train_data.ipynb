{
  "nbformat": 4,
  "nbformat_minor": 0,
  "metadata": {
    "colab": {
      "name": "train_data.ipynb",
      "provenance": [],
      "include_colab_link": true
    },
    "kernelspec": {
      "name": "python3",
      "display_name": "Python 3"
    }
  },
  "cells": [
    {
      "cell_type": "markdown",
      "metadata": {
        "id": "view-in-github",
        "colab_type": "text"
      },
      "source": [
        "<a href=\"https://colab.research.google.com/github/Mario-RJunior/chatbot/blob/main/train_data.ipynb\" target=\"_parent\"><img src=\"https://colab.research.google.com/assets/colab-badge.svg\" alt=\"Open In Colab\"/></a>"
      ]
    },
    {
      "cell_type": "markdown",
      "metadata": {
        "id": "spd_TIoYaxzX"
      },
      "source": [
        "# Train Data "
      ]
    },
    {
      "cell_type": "code",
      "metadata": {
        "colab": {
          "base_uri": "https://localhost:8080/"
        },
        "id": "DBgKs6PAysCv",
        "outputId": "0d7f6552-afa1-4a2e-ecf8-6fa1ebfa408c"
      },
      "source": [
        "!git clone https://github.com/Mario-RJunior/chatbot"
      ],
      "execution_count": 1,
      "outputs": [
        {
          "output_type": "stream",
          "text": [
            "Cloning into 'chatbot'...\n",
            "remote: Enumerating objects: 122, done.\u001b[K\n",
            "remote: Counting objects: 100% (122/122), done.\u001b[K\n",
            "remote: Compressing objects: 100% (81/81), done.\u001b[K\n",
            "remote: Total 122 (delta 57), reused 89 (delta 32), pack-reused 0\u001b[K\n",
            "Receiving objects: 100% (122/122), 26.99 KiB | 4.50 MiB/s, done.\n",
            "Resolving deltas: 100% (57/57), done.\n"
          ],
          "name": "stdout"
        }
      ]
    },
    {
      "cell_type": "code",
      "metadata": {
        "colab": {
          "base_uri": "https://localhost:8080/"
        },
        "id": "6KtRJWrRXjt4",
        "outputId": "d7e8ebff-73f1-42bd-c56e-938c0a8d6b5a"
      },
      "source": [
        "import json\r\n",
        "from nltk_utils import tokenize, stem, bag_of_word\r\n",
        "import string\r\n",
        "import numpy as np\r\n",
        "import torch\r\n",
        "import torch.nn as nn\r\n",
        "from torch.utils.data import Dataset, DataLoader\r\n",
        "from model import NeuralNet\r\n",
        "import nltk\r\n",
        "nltk.download('punkt')"
      ],
      "execution_count": 3,
      "outputs": [
        {
          "output_type": "stream",
          "text": [
            "[nltk_data] Downloading package punkt to /root/nltk_data...\n",
            "[nltk_data]   Unzipping tokenizers/punkt.zip.\n"
          ],
          "name": "stdout"
        },
        {
          "output_type": "execute_result",
          "data": {
            "text/plain": [
              "True"
            ]
          },
          "metadata": {
            "tags": []
          },
          "execution_count": 3
        }
      ]
    },
    {
      "cell_type": "code",
      "metadata": {
        "id": "WHt3mv3VXaEP"
      },
      "source": [
        "with open('/content/chatbot/intents.json', 'r', encoding='utf-8') as file:\r\n",
        "    intents = json.load(file)\r\n",
        "\r\n",
        "all_words = []\r\n",
        "tags = []\r\n",
        "xy = []\r\n",
        "\r\n",
        "for intent in intents['intents']:\r\n",
        "    tag = intent['tag']\r\n",
        "    tags.append(tag)\r\n",
        "\r\n",
        "    for pattern in intent['patterns']:\r\n",
        "        w = tokenize(pattern)\r\n",
        "        all_words.extend(w)\r\n",
        "        xy.append((w, tag))\r\n",
        "\r\n",
        "punctuation = string.punctuation\r\n",
        "\r\n",
        "all_words = [stem(w) for w in all_words if w not in punctuation]\r\n",
        "all_words = sorted(set(all_words))\r\n",
        "tags = sorted(set(tags))\r\n",
        "\r\n",
        "X_train = []\r\n",
        "y_train = []\r\n",
        "\r\n",
        "for (pattern_sentence, tag) in xy:\r\n",
        "    bag = bag_of_word(pattern_sentence, all_words)\r\n",
        "    X_train.append(bag)\r\n",
        "\r\n",
        "    label = tags.index(tag)\r\n",
        "    y_train.append(label)\r\n",
        "\r\n",
        "X_train = np.array(X_train)\r\n",
        "y_train = np.array(y_train)\r\n",
        "\r\n",
        "# Create a class\r\n",
        "class ChatDataset(Dataset):\r\n",
        "\r\n",
        "    def __init__(self):\r\n",
        "        self.n_samples = len(X_train)\r\n",
        "        self.x_data = X_train\r\n",
        "        self.y_data = y_train\r\n",
        "    \r\n",
        "    def __getitem__(self, index):\r\n",
        "        return self.x_data[index], self.y_data[index]\r\n",
        "\r\n",
        "    def __len__(self):\r\n",
        "        return self.n_samples\r\n",
        "\r\n",
        "# Hyperparameters\r\n",
        "batch_size = 8\r\n",
        "hidden_size = 8\r\n",
        "output_size = len(tags)\r\n",
        "input_size = len(X_train[0])\r\n",
        "learning_rate = 0.001\r\n",
        "num_epochs = 1000\r\n",
        "\r\n",
        "dataset = ChatDataset()\r\n",
        "train_loader = DataLoader(dataset=dataset, \r\n",
        "                          batch_size=batch_size,\r\n",
        "                          shuffle=True,\r\n",
        "                          num_workers=2)\r\n",
        "\r\n",
        "# Using GPU (if its available)\r\n",
        "device = torch.device('cuda' if torch.cuda.is_available() else 'cpu')\r\n",
        "model = NeuralNet(input_size, hidden_size, output_size).to(device)"
      ],
      "execution_count": 4,
      "outputs": []
    },
    {
      "cell_type": "code",
      "metadata": {
        "id": "auWD8MT1Yw3s"
      },
      "source": [
        "# Loss and Optimizer\r\n",
        "criterion = nn.CrossEntropyLoss()\r\n",
        "optimizer = torch.optim.Adam(model.parameters(), \r\n",
        "                             lr=learning_rate)"
      ],
      "execution_count": 5,
      "outputs": []
    },
    {
      "cell_type": "code",
      "metadata": {
        "colab": {
          "base_uri": "https://localhost:8080/"
        },
        "id": "N0uMp547ZM6F",
        "outputId": "fe05bbcb-b77c-4350-d3ea-66468dc5ac03"
      },
      "source": [
        "for epoch in range(num_epochs):\r\n",
        "    for (words, labels) in train_loader:\r\n",
        "        words = words.to(device)\r\n",
        "        labels = labels.to(device)\r\n",
        "\r\n",
        "        # Forward\r\n",
        "        outputs = model(words)\r\n",
        "        loss = criterion(outputs, labels)\r\n",
        "\r\n",
        "        # Backward and optimizer step\r\n",
        "        optimizer.zero_grad()\r\n",
        "        loss.backward()\r\n",
        "        optimizer.step()\r\n",
        "    \r\n",
        "    if (epoch + 1) % 100 == 0:\r\n",
        "        print(f'epoch {epoch + 1}/{num_epochs}, loss = {loss.item():.4f}')\r\n",
        "\r\n",
        "print(f'final loss, loss = {loss.item():.4f}')"
      ],
      "execution_count": 6,
      "outputs": [
        {
          "output_type": "stream",
          "text": [
            "epoch 100/1000, loss = 0.9266\n",
            "epoch 200/1000, loss = 0.0426\n",
            "epoch 300/1000, loss = 0.0760\n",
            "epoch 400/1000, loss = 0.0198\n",
            "epoch 500/1000, loss = 0.0061\n",
            "epoch 600/1000, loss = 0.0013\n",
            "epoch 700/1000, loss = 0.0024\n",
            "epoch 800/1000, loss = 0.0011\n",
            "epoch 900/1000, loss = 0.0011\n",
            "epoch 1000/1000, loss = 0.0009\n",
            "final loss, loss = 0.0009\n"
          ],
          "name": "stdout"
        }
      ]
    },
    {
      "cell_type": "code",
      "metadata": {
        "id": "uIYEUIqaEcr8"
      },
      "source": [
        "data = {\r\n",
        "    'model_state': model.state_dict(),\r\n",
        "    'input_size': input_size,\r\n",
        "    'output_size': output_size,\r\n",
        "    'hidden_size': hidden_size,\r\n",
        "    'all_words': all_words,\r\n",
        "    'tags': tags\r\n",
        "}"
      ],
      "execution_count": 7,
      "outputs": []
    },
    {
      "cell_type": "code",
      "metadata": {
        "id": "d4t-7dOTE0tZ"
      },
      "source": [
        "FILE = 'data.pth'\r\n",
        "torch.save(data, FILE)"
      ],
      "execution_count": 8,
      "outputs": []
    },
    {
      "cell_type": "code",
      "metadata": {
        "id": "kso5n_OXE-F8",
        "colab": {
          "base_uri": "https://localhost:8080/"
        },
        "outputId": "c07109f6-f5bb-4a32-9370-c93a3c4f5e73"
      },
      "source": [
        "print(f'Training complete. File saved to {FILE}')"
      ],
      "execution_count": 9,
      "outputs": [
        {
          "output_type": "stream",
          "text": [
            "Training complete. File saved to data.pth\n"
          ],
          "name": "stdout"
        }
      ]
    }
  ]
}